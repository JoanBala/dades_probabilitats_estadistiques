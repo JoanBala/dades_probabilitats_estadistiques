{
 "cells": [
  {
   "cell_type": "markdown",
   "id": "81f9b0e5",
   "metadata": {},
   "source": [
    "# S06 T01: Tasca dades, probabilitats i estadístiques\n",
    "\n",
    "##### Aprèn a realitzar estadístiques amb Python."
   ]
  },
  {
   "cell_type": "markdown",
   "id": "681ef1a9",
   "metadata": {},
   "source": [
    "## Nivell 1"
   ]
  },
  {
   "cell_type": "markdown",
   "id": "60015a53",
   "metadata": {},
   "source": [
    "### * Exercici 1\n",
    "\n",
    "Agafa un conjunt de dades de tema esportiu que t'agradi i selecciona un atribut del conjunt de dades. Calcula la moda, la mediana, la desviació estàndard i la mitjana aritmètica. "
   ]
  },
  {
   "cell_type": "code",
   "execution_count": 558,
   "id": "4e385a2c",
   "metadata": {},
   "outputs": [],
   "source": [
    "%matplotlib inline\n",
    "\n",
    "import numpy as np\n",
    "import pandas as pd\n",
    "import matplotlib.pyplot as plt\n",
    "import seaborn as sns\n",
    "from statistics import median, mode, mean"
   ]
  },
  {
   "cell_type": "code",
   "execution_count": 559,
   "id": "f25e2487",
   "metadata": {},
   "outputs": [
    {
     "data": {
      "text/html": [
       "<div>\n",
       "<style scoped>\n",
       "    .dataframe tbody tr th:only-of-type {\n",
       "        vertical-align: middle;\n",
       "    }\n",
       "\n",
       "    .dataframe tbody tr th {\n",
       "        vertical-align: top;\n",
       "    }\n",
       "\n",
       "    .dataframe thead th {\n",
       "        text-align: right;\n",
       "    }\n",
       "</style>\n",
       "<table border=\"1\" class=\"dataframe\">\n",
       "  <thead>\n",
       "    <tr style=\"text-align: right;\">\n",
       "      <th></th>\n",
       "      <th>Year</th>\n",
       "      <th>City</th>\n",
       "      <th>Sport</th>\n",
       "      <th>Discipline</th>\n",
       "      <th>Athlete</th>\n",
       "      <th>Country</th>\n",
       "      <th>Gender</th>\n",
       "      <th>Event</th>\n",
       "      <th>Medal</th>\n",
       "    </tr>\n",
       "  </thead>\n",
       "  <tbody>\n",
       "    <tr>\n",
       "      <th>0</th>\n",
       "      <td>1924</td>\n",
       "      <td>Chamonix</td>\n",
       "      <td>Biathlon</td>\n",
       "      <td>Biathlon</td>\n",
       "      <td>BERTHET, G.</td>\n",
       "      <td>FRA</td>\n",
       "      <td>Men</td>\n",
       "      <td>Military Patrol</td>\n",
       "      <td>Bronze</td>\n",
       "    </tr>\n",
       "    <tr>\n",
       "      <th>1</th>\n",
       "      <td>1924</td>\n",
       "      <td>Chamonix</td>\n",
       "      <td>Biathlon</td>\n",
       "      <td>Biathlon</td>\n",
       "      <td>MANDRILLON, C.</td>\n",
       "      <td>FRA</td>\n",
       "      <td>Men</td>\n",
       "      <td>Military Patrol</td>\n",
       "      <td>Bronze</td>\n",
       "    </tr>\n",
       "    <tr>\n",
       "      <th>2</th>\n",
       "      <td>1924</td>\n",
       "      <td>Chamonix</td>\n",
       "      <td>Biathlon</td>\n",
       "      <td>Biathlon</td>\n",
       "      <td>MANDRILLON, Maurice</td>\n",
       "      <td>FRA</td>\n",
       "      <td>Men</td>\n",
       "      <td>Military Patrol</td>\n",
       "      <td>Bronze</td>\n",
       "    </tr>\n",
       "    <tr>\n",
       "      <th>3</th>\n",
       "      <td>1924</td>\n",
       "      <td>Chamonix</td>\n",
       "      <td>Biathlon</td>\n",
       "      <td>Biathlon</td>\n",
       "      <td>VANDELLE, André</td>\n",
       "      <td>FRA</td>\n",
       "      <td>Men</td>\n",
       "      <td>Military Patrol</td>\n",
       "      <td>Bronze</td>\n",
       "    </tr>\n",
       "    <tr>\n",
       "      <th>4</th>\n",
       "      <td>1924</td>\n",
       "      <td>Chamonix</td>\n",
       "      <td>Biathlon</td>\n",
       "      <td>Biathlon</td>\n",
       "      <td>AUFDENBLATTEN, Adolf</td>\n",
       "      <td>SUI</td>\n",
       "      <td>Men</td>\n",
       "      <td>Military Patrol</td>\n",
       "      <td>Gold</td>\n",
       "    </tr>\n",
       "    <tr>\n",
       "      <th>...</th>\n",
       "      <td>...</td>\n",
       "      <td>...</td>\n",
       "      <td>...</td>\n",
       "      <td>...</td>\n",
       "      <td>...</td>\n",
       "      <td>...</td>\n",
       "      <td>...</td>\n",
       "      <td>...</td>\n",
       "      <td>...</td>\n",
       "    </tr>\n",
       "    <tr>\n",
       "      <th>5765</th>\n",
       "      <td>2014</td>\n",
       "      <td>Sochi</td>\n",
       "      <td>Skiing</td>\n",
       "      <td>Snowboard</td>\n",
       "      <td>JONES, Jenny</td>\n",
       "      <td>GBR</td>\n",
       "      <td>Women</td>\n",
       "      <td>Slopestyle</td>\n",
       "      <td>Bronze</td>\n",
       "    </tr>\n",
       "    <tr>\n",
       "      <th>5766</th>\n",
       "      <td>2014</td>\n",
       "      <td>Sochi</td>\n",
       "      <td>Skiing</td>\n",
       "      <td>Snowboard</td>\n",
       "      <td>ANDERSON, Jamie</td>\n",
       "      <td>USA</td>\n",
       "      <td>Women</td>\n",
       "      <td>Slopestyle</td>\n",
       "      <td>Gold</td>\n",
       "    </tr>\n",
       "    <tr>\n",
       "      <th>5767</th>\n",
       "      <td>2014</td>\n",
       "      <td>Sochi</td>\n",
       "      <td>Skiing</td>\n",
       "      <td>Snowboard</td>\n",
       "      <td>MALTAIS, Dominique</td>\n",
       "      <td>CAN</td>\n",
       "      <td>Women</td>\n",
       "      <td>Snowboard Cross</td>\n",
       "      <td>Silver</td>\n",
       "    </tr>\n",
       "    <tr>\n",
       "      <th>5768</th>\n",
       "      <td>2014</td>\n",
       "      <td>Sochi</td>\n",
       "      <td>Skiing</td>\n",
       "      <td>Snowboard</td>\n",
       "      <td>SAMKOVA, Eva</td>\n",
       "      <td>CZE</td>\n",
       "      <td>Women</td>\n",
       "      <td>Snowboard Cross</td>\n",
       "      <td>Gold</td>\n",
       "    </tr>\n",
       "    <tr>\n",
       "      <th>5769</th>\n",
       "      <td>2014</td>\n",
       "      <td>Sochi</td>\n",
       "      <td>Skiing</td>\n",
       "      <td>Snowboard</td>\n",
       "      <td>TRESPEUCH, Chloe</td>\n",
       "      <td>FRA</td>\n",
       "      <td>Women</td>\n",
       "      <td>Snowboard Cross</td>\n",
       "      <td>Bronze</td>\n",
       "    </tr>\n",
       "  </tbody>\n",
       "</table>\n",
       "<p>5770 rows × 9 columns</p>\n",
       "</div>"
      ],
      "text/plain": [
       "      Year      City     Sport Discipline               Athlete Country  \\\n",
       "0     1924  Chamonix  Biathlon   Biathlon           BERTHET, G.     FRA   \n",
       "1     1924  Chamonix  Biathlon   Biathlon        MANDRILLON, C.     FRA   \n",
       "2     1924  Chamonix  Biathlon   Biathlon   MANDRILLON, Maurice     FRA   \n",
       "3     1924  Chamonix  Biathlon   Biathlon       VANDELLE, André     FRA   \n",
       "4     1924  Chamonix  Biathlon   Biathlon  AUFDENBLATTEN, Adolf     SUI   \n",
       "...    ...       ...       ...        ...                   ...     ...   \n",
       "5765  2014     Sochi    Skiing  Snowboard          JONES, Jenny     GBR   \n",
       "5766  2014     Sochi    Skiing  Snowboard       ANDERSON, Jamie     USA   \n",
       "5767  2014     Sochi    Skiing  Snowboard    MALTAIS, Dominique     CAN   \n",
       "5768  2014     Sochi    Skiing  Snowboard          SAMKOVA, Eva     CZE   \n",
       "5769  2014     Sochi    Skiing  Snowboard      TRESPEUCH, Chloe     FRA   \n",
       "\n",
       "     Gender            Event   Medal  \n",
       "0       Men  Military Patrol  Bronze  \n",
       "1       Men  Military Patrol  Bronze  \n",
       "2       Men  Military Patrol  Bronze  \n",
       "3       Men  Military Patrol  Bronze  \n",
       "4       Men  Military Patrol    Gold  \n",
       "...     ...              ...     ...  \n",
       "5765  Women       Slopestyle  Bronze  \n",
       "5766  Women       Slopestyle    Gold  \n",
       "5767  Women  Snowboard Cross  Silver  \n",
       "5768  Women  Snowboard Cross    Gold  \n",
       "5769  Women  Snowboard Cross  Bronze  \n",
       "\n",
       "[5770 rows x 9 columns]"
      ]
     },
     "execution_count": 559,
     "metadata": {},
     "output_type": "execute_result"
    }
   ],
   "source": [
    "winter_df = pd.read_csv('winter.csv')\n",
    "winter_df"
   ]
  },
  {
   "cell_type": "code",
   "execution_count": 560,
   "id": "98dfacc1",
   "metadata": {},
   "outputs": [],
   "source": [
    "years = winter_df.Year.value_counts().sort_values(ascending=False)\n",
    "top_countries = winter_df.Country.value_counts().sort_values(ascending=False)\n",
    "cities = winter_df.City.value_counts().sort_values(ascending=False)\n",
    "disciplines = winter_df.Discipline.value_counts().sort_values(ascending=False)\n",
    "gender = winter_df.Gender.value_counts().sort_values(ascending=False)\n",
    "events = winter_df.Event.value_counts().sort_values(ascending=False)\n",
    "medals = winter_df.Medal.value_counts().sort_values(ascending=False)"
   ]
  },
  {
   "attachments": {
    "imagen-5.png": {
     "image/png": "[encoded data removed]"
    }
   },
   "cell_type": "markdown",
   "id": "8090371d",
   "metadata": {},
   "source": [
    "![DOC - Rsum_llista_winter](attachment:imagen-5.png)"
   ]
  },
  {
   "cell_type": "code",
   "execution_count": 568,
   "id": "0d51a36a",
   "metadata": {},
   "outputs": [
    {
     "data": {
      "text/html": [
       "<div>\n",
       "<style scoped>\n",
       "    .dataframe tbody tr th:only-of-type {\n",
       "        vertical-align: middle;\n",
       "    }\n",
       "\n",
       "    .dataframe tbody tr th {\n",
       "        vertical-align: top;\n",
       "    }\n",
       "\n",
       "    .dataframe thead th {\n",
       "        text-align: right;\n",
       "    }\n",
       "</style>\n",
       "<table border=\"1\" class=\"dataframe\">\n",
       "  <thead>\n",
       "    <tr style=\"text-align: right;\">\n",
       "      <th></th>\n",
       "      <th>Year</th>\n",
       "      <th>City</th>\n",
       "      <th>Sport</th>\n",
       "      <th>Discipline</th>\n",
       "      <th>Athlete</th>\n",
       "      <th>Country</th>\n",
       "      <th>Gender</th>\n",
       "      <th>Event</th>\n",
       "      <th>Medal</th>\n",
       "    </tr>\n",
       "  </thead>\n",
       "  <tbody>\n",
       "    <tr>\n",
       "      <th>0</th>\n",
       "      <td>1924</td>\n",
       "      <td>Chamonix</td>\n",
       "      <td>Biathlon</td>\n",
       "      <td>Biathlon</td>\n",
       "      <td>BERTHET, G.</td>\n",
       "      <td>FRA</td>\n",
       "      <td>Men</td>\n",
       "      <td>Military Patrol</td>\n",
       "      <td>3</td>\n",
       "    </tr>\n",
       "    <tr>\n",
       "      <th>1</th>\n",
       "      <td>1924</td>\n",
       "      <td>Chamonix</td>\n",
       "      <td>Biathlon</td>\n",
       "      <td>Biathlon</td>\n",
       "      <td>MANDRILLON, C.</td>\n",
       "      <td>FRA</td>\n",
       "      <td>Men</td>\n",
       "      <td>Military Patrol</td>\n",
       "      <td>3</td>\n",
       "    </tr>\n",
       "    <tr>\n",
       "      <th>2</th>\n",
       "      <td>1924</td>\n",
       "      <td>Chamonix</td>\n",
       "      <td>Biathlon</td>\n",
       "      <td>Biathlon</td>\n",
       "      <td>MANDRILLON, Maurice</td>\n",
       "      <td>FRA</td>\n",
       "      <td>Men</td>\n",
       "      <td>Military Patrol</td>\n",
       "      <td>3</td>\n",
       "    </tr>\n",
       "    <tr>\n",
       "      <th>3</th>\n",
       "      <td>1924</td>\n",
       "      <td>Chamonix</td>\n",
       "      <td>Biathlon</td>\n",
       "      <td>Biathlon</td>\n",
       "      <td>VANDELLE, André</td>\n",
       "      <td>FRA</td>\n",
       "      <td>Men</td>\n",
       "      <td>Military Patrol</td>\n",
       "      <td>3</td>\n",
       "    </tr>\n",
       "    <tr>\n",
       "      <th>4</th>\n",
       "      <td>1924</td>\n",
       "      <td>Chamonix</td>\n",
       "      <td>Biathlon</td>\n",
       "      <td>Biathlon</td>\n",
       "      <td>AUFDENBLATTEN, Adolf</td>\n",
       "      <td>SUI</td>\n",
       "      <td>Men</td>\n",
       "      <td>Military Patrol</td>\n",
       "      <td>1</td>\n",
       "    </tr>\n",
       "    <tr>\n",
       "      <th>...</th>\n",
       "      <td>...</td>\n",
       "      <td>...</td>\n",
       "      <td>...</td>\n",
       "      <td>...</td>\n",
       "      <td>...</td>\n",
       "      <td>...</td>\n",
       "      <td>...</td>\n",
       "      <td>...</td>\n",
       "      <td>...</td>\n",
       "    </tr>\n",
       "    <tr>\n",
       "      <th>5765</th>\n",
       "      <td>2014</td>\n",
       "      <td>Sochi</td>\n",
       "      <td>Skiing</td>\n",
       "      <td>Snowboard</td>\n",
       "      <td>JONES, Jenny</td>\n",
       "      <td>GBR</td>\n",
       "      <td>Women</td>\n",
       "      <td>Slopestyle</td>\n",
       "      <td>3</td>\n",
       "    </tr>\n",
       "    <tr>\n",
       "      <th>5766</th>\n",
       "      <td>2014</td>\n",
       "      <td>Sochi</td>\n",
       "      <td>Skiing</td>\n",
       "      <td>Snowboard</td>\n",
       "      <td>ANDERSON, Jamie</td>\n",
       "      <td>USA</td>\n",
       "      <td>Women</td>\n",
       "      <td>Slopestyle</td>\n",
       "      <td>1</td>\n",
       "    </tr>\n",
       "    <tr>\n",
       "      <th>5767</th>\n",
       "      <td>2014</td>\n",
       "      <td>Sochi</td>\n",
       "      <td>Skiing</td>\n",
       "      <td>Snowboard</td>\n",
       "      <td>MALTAIS, Dominique</td>\n",
       "      <td>CAN</td>\n",
       "      <td>Women</td>\n",
       "      <td>Snowboard Cross</td>\n",
       "      <td>2</td>\n",
       "    </tr>\n",
       "    <tr>\n",
       "      <th>5768</th>\n",
       "      <td>2014</td>\n",
       "      <td>Sochi</td>\n",
       "      <td>Skiing</td>\n",
       "      <td>Snowboard</td>\n",
       "      <td>SAMKOVA, Eva</td>\n",
       "      <td>CZE</td>\n",
       "      <td>Women</td>\n",
       "      <td>Snowboard Cross</td>\n",
       "      <td>1</td>\n",
       "    </tr>\n",
       "    <tr>\n",
       "      <th>5769</th>\n",
       "      <td>2014</td>\n",
       "      <td>Sochi</td>\n",
       "      <td>Skiing</td>\n",
       "      <td>Snowboard</td>\n",
       "      <td>TRESPEUCH, Chloe</td>\n",
       "      <td>FRA</td>\n",
       "      <td>Women</td>\n",
       "      <td>Snowboard Cross</td>\n",
       "      <td>3</td>\n",
       "    </tr>\n",
       "  </tbody>\n",
       "</table>\n",
       "<p>5770 rows × 9 columns</p>\n",
       "</div>"
      ],
      "text/plain": [
       "      Year      City     Sport Discipline               Athlete Country  \\\n",
       "0     1924  Chamonix  Biathlon   Biathlon           BERTHET, G.     FRA   \n",
       "1     1924  Chamonix  Biathlon   Biathlon        MANDRILLON, C.     FRA   \n",
       "2     1924  Chamonix  Biathlon   Biathlon   MANDRILLON, Maurice     FRA   \n",
       "3     1924  Chamonix  Biathlon   Biathlon       VANDELLE, André     FRA   \n",
       "4     1924  Chamonix  Biathlon   Biathlon  AUFDENBLATTEN, Adolf     SUI   \n",
       "...    ...       ...       ...        ...                   ...     ...   \n",
       "5765  2014     Sochi    Skiing  Snowboard          JONES, Jenny     GBR   \n",
       "5766  2014     Sochi    Skiing  Snowboard       ANDERSON, Jamie     USA   \n",
       "5767  2014     Sochi    Skiing  Snowboard    MALTAIS, Dominique     CAN   \n",
       "5768  2014     Sochi    Skiing  Snowboard          SAMKOVA, Eva     CZE   \n",
       "5769  2014     Sochi    Skiing  Snowboard      TRESPEUCH, Chloe     FRA   \n",
       "\n",
       "     Gender            Event  Medal  \n",
       "0       Men  Military Patrol      3  \n",
       "1       Men  Military Patrol      3  \n",
       "2       Men  Military Patrol      3  \n",
       "3       Men  Military Patrol      3  \n",
       "4       Men  Military Patrol      1  \n",
       "...     ...              ...    ...  \n",
       "5765  Women       Slopestyle      3  \n",
       "5766  Women       Slopestyle      1  \n",
       "5767  Women  Snowboard Cross      2  \n",
       "5768  Women  Snowboard Cross      1  \n",
       "5769  Women  Snowboard Cross      3  \n",
       "\n",
       "[5770 rows x 9 columns]"
      ]
     },
     "execution_count": 568,
     "metadata": {},
     "output_type": "execute_result"
    }
   ],
   "source": [
    "#Convertim la columna 'Medal' a numèric per tenir una segona columna d'anàlisi\n",
    "winter_df['Medal'] = winter_df['Medal'].str.replace('Gold','1')\n",
    "winter_df['Medal'] = winter_df['Medal'].str.replace('Silver','2')\n",
    "winter_df['Medal'] = winter_df['Medal'].str.replace('Bronze','3')\n",
    "winter_df.Medal = pd.to_numeric(winter_df.Medal)\n",
    "winter_df"
   ]
  },
  {
   "cell_type": "markdown",
   "id": "7cb0ae64",
   "metadata": {},
   "source": [
    "### Calculem la moda:"
   ]
  },
  {
   "cell_type": "code",
   "execution_count": 627,
   "id": "e1c48219",
   "metadata": {},
   "outputs": [],
   "source": [
    "years = winter_df.Year.sort_values(ascending=False)\n",
    "top_countries = winter_df.Country.sort_values(ascending=False)\n",
    "cities = winter_df.City.sort_values(ascending=False)\n",
    "disciplines = winter_df.Discipline.sort_values(ascending=False)\n",
    "gender = winter_df.Gender.sort_values(ascending=False)\n",
    "events = winter_df.Event.sort_values(ascending=False)\n",
    "medals = winter_df.Medal.sort_values(ascending=False)"
   ]
  },
  {
   "cell_type": "code",
   "execution_count": 577,
   "id": "f658504e",
   "metadata": {},
   "outputs": [
    {
     "name": "stdout",
     "output_type": "stream",
     "text": [
      "La MODA de les diferents columnes: \n",
      "\n",
      "Years:  2014\n",
      "Countries:  USA\n",
      "Cities:  Sochi\n",
      "Disciplines:  Ice Hockey\n",
      "Gender:  Men\n",
      "Events:  Ice Hockey\n",
      "Medals:  2\n"
     ]
    }
   ],
   "source": [
    "print(\"La MODA de les diferents columnes: \\n\")\n",
    "\n",
    "print(\"Years: \", mode(years))\n",
    "print(\"Countries: \", mode(top_countries))\n",
    "print(\"Cities: \", mode(cities))\n",
    "print(\"Disciplines: \", mode(disciplines))\n",
    "print(\"Gender: \", mode(gender))\n",
    "print(\"Events: \", mode(events))\n",
    "print(\"Medals: \", mode(medals))"
   ]
  },
  {
   "cell_type": "code",
   "execution_count": 578,
   "id": "0ff508d7",
   "metadata": {},
   "outputs": [
    {
     "name": "stdout",
     "output_type": "stream",
     "text": [
      "La MODA de les diferents columnes: \n",
      "\n",
      "Years:  2014\n",
      "Countries:  USA\n",
      "Cities:  Sochi\n",
      "Disciplines:  Ice Hockey\n",
      "Gender:  Men\n",
      "Events:  Ice Hockey\n",
      "Medals:  2\n"
     ]
    }
   ],
   "source": [
    "print(\"La MODA de les diferents columnes: \\n\")\n",
    "\n",
    "print(\"Years: \", winter_df.Year.mode().max())\n",
    "print(\"Countries: \", winter_df.Country.mode().max())\n",
    "print(\"Cities: \", winter_df.City.mode().max())\n",
    "print(\"Disciplines: \", winter_df.Discipline.mode().max())\n",
    "print(\"Gender: \", winter_df.Gender.mode().max())\n",
    "print(\"Events: \", winter_df.Event.mode().max())\n",
    "print(\"Medals: \", winter_df.Medal.mode().max())"
   ]
  },
  {
   "cell_type": "markdown",
   "id": "b2bbf947",
   "metadata": {},
   "source": [
    "### Calculem la la mediana:"
   ]
  },
  {
   "cell_type": "code",
   "execution_count": 629,
   "id": "a9f298bc",
   "metadata": {},
   "outputs": [],
   "source": [
    "#years = winter_df.Year.value_counts().sort_values(ascending=False)\n",
    "top_countries = winter_df.Country.value_counts().sort_values(ascending=False)\n",
    "cities = winter_df.City.value_counts().sort_values(ascending=False)\n",
    "disciplines = winter_df.Discipline.value_counts().sort_values(ascending=False)\n",
    "gender = winter_df.Gender.value_counts().sort_values(ascending=False)\n",
    "events = winter_df.Event.value_counts().sort_values(ascending=False)\n",
    "#medals = winter_df.Medal.value_counts().sort_values(ascending=False)"
   ]
  },
  {
   "cell_type": "code",
   "execution_count": 630,
   "id": "47032b22",
   "metadata": {},
   "outputs": [
    {
     "name": "stdout",
     "output_type": "stream",
     "text": [
      "La MEDIANA de les diferents columnes: \n",
      "\n",
      "Years:  1994.0\n",
      "Countries:  27\n",
      "Cities:  264\n",
      "Disciplines:  290\n",
      "Gender:  2885.0\n",
      "Events:  30\n",
      "Medals:  2.0\n"
     ]
    }
   ],
   "source": [
    "print(\"La MEDIANA de les diferents columnes: \\n\")\n",
    "\n",
    "print(\"Years: \", median(years))\n",
    "print(\"Countries: \", median(top_countries))\n",
    "print(\"Cities: \", median(cities))\n",
    "print(\"Disciplines: \", median(disciplines))\n",
    "print(\"Gender: \", median(gender))\n",
    "print(\"Events: \", median(events))\n",
    "print(\"Medals: \", median(medals))"
   ]
  },
  {
   "cell_type": "code",
   "execution_count": 631,
   "id": "5c306b99",
   "metadata": {},
   "outputs": [
    {
     "name": "stdout",
     "output_type": "stream",
     "text": [
      "La MEDIANA de les diferents columnes: \n",
      "\n",
      "Years:  1994.0\n",
      "Countries:  27.0\n",
      "Cities:  264.0\n",
      "Disciplines:  290.0\n",
      "Gender:  2885.0\n",
      "Events:  30.0\n",
      "Medals:  2.0\n"
     ]
    }
   ],
   "source": [
    "print(\"La MEDIANA de les diferents columnes: \\n\")\n",
    "\n",
    "print(\"Years: \", years.median())\n",
    "print(\"Countries: \", top_countries.median())\n",
    "print(\"Cities: \", cities.median())\n",
    "print(\"Disciplines: \", disciplines.median())\n",
    "print(\"Gender: \", gender.median())\n",
    "print(\"Events: \", events.median())\n",
    "print(\"Medals: \", medals.median())"
   ]
  },
  {
   "cell_type": "code",
   "execution_count": 632,
   "id": "8f26769e",
   "metadata": {},
   "outputs": [
    {
     "name": "stdout",
     "output_type": "stream",
     "text": [
      "La MEDIANA de les diferents columnes: \n",
      "\n",
      "Years:  1994.0\n",
      "Countries:  27.0\n",
      "Cities:  264.0\n",
      "Disciplines:  290.0\n",
      "Gender:  2885.0\n",
      "Events:  30.0\n",
      "Medals:  2.0\n"
     ]
    }
   ],
   "source": [
    "print(\"La MEDIANA de les diferents columnes: \\n\")\n",
    "\n",
    "print(\"Years: \", np.median(winter_df.Year))\n",
    "print(\"Countries: \", np.median(top_countries))\n",
    "print(\"Cities: \", np.median(cities))\n",
    "print(\"Disciplines: \", np.median(disciplines))\n",
    "print(\"Gender: \", np.median(gender))\n",
    "print(\"Events: \", np.median(events))\n",
    "print(\"Medals: \", np.median(winter_df.Medal))"
   ]
  },
  {
   "cell_type": "markdown",
   "id": "83c9fb77",
   "metadata": {},
   "source": [
    "### Calculem la desviació estàndard :"
   ]
  },
  {
   "cell_type": "code",
   "execution_count": 634,
   "id": "e145576d",
   "metadata": {},
   "outputs": [
    {
     "data": {
      "text/plain": [
       "24.263673447760354"
      ]
     },
     "execution_count": 634,
     "metadata": {},
     "output_type": "execute_result"
    }
   ],
   "source": [
    "years.std()"
   ]
  },
  {
   "cell_type": "code",
   "execution_count": 635,
   "id": "555721d2",
   "metadata": {},
   "outputs": [
    {
     "data": {
      "text/plain": [
       "24.263673447760326"
      ]
     },
     "execution_count": 635,
     "metadata": {},
     "output_type": "execute_result"
    }
   ],
   "source": [
    "winter_df['Year'].std()"
   ]
  },
  {
   "cell_type": "code",
   "execution_count": 636,
   "id": "7bb377ab",
   "metadata": {},
   "outputs": [
    {
     "data": {
      "text/plain": [
       "24.261570785297224"
      ]
     },
     "execution_count": 636,
     "metadata": {},
     "output_type": "execute_result"
    }
   ],
   "source": [
    "np.std(years)"
   ]
  },
  {
   "cell_type": "code",
   "execution_count": 637,
   "id": "1ec353ff",
   "metadata": {},
   "outputs": [
    {
     "data": {
      "text/plain": [
       "24.26157078529719"
      ]
     },
     "execution_count": 637,
     "metadata": {},
     "output_type": "execute_result"
    }
   ],
   "source": [
    "np.std(winter_df['Year'])"
   ]
  },
  {
   "cell_type": "code",
   "execution_count": 638,
   "id": "f751c5ab",
   "metadata": {},
   "outputs": [
    {
     "data": {
      "text/plain": [
       "0.8158593658826803"
      ]
     },
     "execution_count": 638,
     "metadata": {},
     "output_type": "execute_result"
    }
   ],
   "source": [
    "medals.std()"
   ]
  },
  {
   "cell_type": "code",
   "execution_count": 639,
   "id": "4df2d4ab",
   "metadata": {},
   "outputs": [
    {
     "data": {
      "text/plain": [
       "0.8158593658826623"
      ]
     },
     "execution_count": 639,
     "metadata": {},
     "output_type": "execute_result"
    }
   ],
   "source": [
    "winter_df['Medal'].std()"
   ]
  },
  {
   "cell_type": "code",
   "execution_count": 640,
   "id": "6f640fe6",
   "metadata": {},
   "outputs": [
    {
     "data": {
      "text/plain": [
       "0.815788664433968"
      ]
     },
     "execution_count": 640,
     "metadata": {},
     "output_type": "execute_result"
    }
   ],
   "source": [
    "np.std(medals)"
   ]
  },
  {
   "cell_type": "code",
   "execution_count": 641,
   "id": "01372c32",
   "metadata": {},
   "outputs": [
    {
     "data": {
      "text/plain": [
       "0.81578866443395"
      ]
     },
     "execution_count": 641,
     "metadata": {},
     "output_type": "execute_result"
    }
   ],
   "source": [
    "np.std(winter_df['Medal'])"
   ]
  },
  {
   "cell_type": "markdown",
   "id": "2d34d9fa",
   "metadata": {},
   "source": [
    "### Calculem la mitjana aritmètica:"
   ]
  },
  {
   "cell_type": "code",
   "execution_count": 642,
   "id": "70ca3e77",
   "metadata": {},
   "outputs": [
    {
     "data": {
      "text/plain": [
       "1986.3504332755633"
      ]
     },
     "execution_count": 642,
     "metadata": {},
     "output_type": "execute_result"
    }
   ],
   "source": [
    "years.mean()"
   ]
  },
  {
   "cell_type": "code",
   "execution_count": 649,
   "id": "4cb0a02c",
   "metadata": {},
   "outputs": [
    {
     "data": {
      "text/plain": [
       "1986.3504332755633"
      ]
     },
     "execution_count": 649,
     "metadata": {},
     "output_type": "execute_result"
    }
   ],
   "source": [
    "winter_df.Year.mean()"
   ]
  },
  {
   "cell_type": "code",
   "execution_count": 650,
   "id": "94dd622e",
   "metadata": {},
   "outputs": [
    {
     "data": {
      "text/plain": [
       "1986.3504332755633"
      ]
     },
     "execution_count": 650,
     "metadata": {},
     "output_type": "execute_result"
    }
   ],
   "source": [
    "np.mean(years)"
   ]
  },
  {
   "cell_type": "code",
   "execution_count": 652,
   "id": "28b38a04",
   "metadata": {},
   "outputs": [
    {
     "data": {
      "text/plain": [
       "1986.3504332755633"
      ]
     },
     "execution_count": 652,
     "metadata": {},
     "output_type": "execute_result"
    }
   ],
   "source": [
    "np.mean(winter_df.Year)"
   ]
  },
  {
   "cell_type": "code",
   "execution_count": 648,
   "id": "0c981340",
   "metadata": {},
   "outputs": [
    {
     "data": {
      "text/plain": [
       "1.9996533795493934"
      ]
     },
     "execution_count": 648,
     "metadata": {},
     "output_type": "execute_result"
    }
   ],
   "source": [
    "medals.mean()"
   ]
  },
  {
   "cell_type": "code",
   "execution_count": 644,
   "id": "d2c73b40",
   "metadata": {},
   "outputs": [
    {
     "data": {
      "text/plain": [
       "1.9996533795493934"
      ]
     },
     "execution_count": 644,
     "metadata": {},
     "output_type": "execute_result"
    }
   ],
   "source": [
    "winter_df.Medal.mean()"
   ]
  },
  {
   "cell_type": "code",
   "execution_count": 645,
   "id": "2e2bcf51",
   "metadata": {},
   "outputs": [
    {
     "data": {
      "text/plain": [
       "1.9996533795493934"
      ]
     },
     "execution_count": 645,
     "metadata": {},
     "output_type": "execute_result"
    }
   ],
   "source": [
    "np.mean(medals)"
   ]
  },
  {
   "cell_type": "code",
   "execution_count": 647,
   "id": "bbd93a54",
   "metadata": {},
   "outputs": [
    {
     "data": {
      "text/plain": [
       "1.9996533795493934"
      ]
     },
     "execution_count": 647,
     "metadata": {},
     "output_type": "execute_result"
    }
   ],
   "source": [
    "np.mean(winter_df.Medal)"
   ]
  },
  {
   "cell_type": "markdown",
   "id": "66fd0c16",
   "metadata": {
    "heading_collapsed": true
   },
   "source": [
    "### * Exercici 2\n",
    "Continuant amb les dades de tema esportiu, selecciona dos atributs i calcula'n la seva correlació. "
   ]
  },
  {
   "cell_type": "markdown",
   "id": "77ec3127",
   "metadata": {
    "heading_collapsed": true,
    "hidden": true
   },
   "source": [
    "#### Correlació de Pearson:"
   ]
  },
  {
   "cell_type": "markdown",
   "id": "f300e661",
   "metadata": {
    "heading_collapsed": true,
    "hidden": true
   },
   "source": [
    "##### NumPy:"
   ]
  },
  {
   "cell_type": "code",
   "execution_count": 666,
   "id": "e8ae92d5",
   "metadata": {
    "hidden": true,
    "scrolled": true
   },
   "outputs": [
    {
     "name": "stdout",
     "output_type": "stream",
     "text": [
      "\n",
      "The Correlation Matrix is: \n",
      "            Year     Medal\n",
      "Year   1.000000 -0.003724\n",
      "Medal -0.003724  1.000000\n"
     ]
    }
   ],
   "source": [
    "Pearson_DF = winter_df.corr()\n",
    "print(\"\\nThe Correlation Matrix is: \\n\", Pearson_DF)"
   ]
  },
  {
   "cell_type": "markdown",
   "id": "077d4666",
   "metadata": {
    "heading_collapsed": true,
    "hidden": true
   },
   "source": [
    "##### SciPy:"
   ]
  },
  {
   "cell_type": "code",
   "execution_count": 676,
   "id": "8d2619fb",
   "metadata": {
    "hidden": true
   },
   "outputs": [
    {
     "name": "stdout",
     "output_type": "stream",
     "text": [
      "El coeficient de correlació de Pearson és: -0.003724106592355789 i el valor 'p' és: 0.7773111811837805\n"
     ]
    }
   ],
   "source": [
    "from scipy.stats.stats import pearsonr\n",
    "\n",
    "r, pP = pearsonr(winter_df.Year,winter_df.Medal)\n",
    "\n",
    "print(f\"El coeficient de correlació de Pearson és: {r} i el valor 'p' és: {pP}\")"
   ]
  },
  {
   "cell_type": "markdown",
   "id": "7f72041f",
   "metadata": {
    "heading_collapsed": true,
    "hidden": true
   },
   "source": [
    "#### Correlació de Spearman:"
   ]
  },
  {
   "cell_type": "markdown",
   "id": "13f10145",
   "metadata": {
    "heading_collapsed": true,
    "hidden": true
   },
   "source": [
    "##### NumPy:"
   ]
  },
  {
   "cell_type": "code",
   "execution_count": 668,
   "id": "28a47466",
   "metadata": {
    "hidden": true
   },
   "outputs": [
    {
     "name": "stdout",
     "output_type": "stream",
     "text": [
      "\n",
      "The Correlation Matrix is: \n",
      "            Year     Medal\n",
      "Year   1.000000 -0.001954\n",
      "Medal -0.001954  1.000000\n"
     ]
    }
   ],
   "source": [
    "Spearman_DF = winter_df.corr(method= \"spearman\", min_periods = 2)\n",
    "print(\"\\nThe Correlation Matrix is: \\n\", Spearman_DF)"
   ]
  },
  {
   "cell_type": "markdown",
   "id": "4e9b246d",
   "metadata": {
    "heading_collapsed": true,
    "hidden": true
   },
   "source": [
    "##### SciPy:"
   ]
  },
  {
   "cell_type": "code",
   "execution_count": 677,
   "id": "d267c20e",
   "metadata": {
    "hidden": true
   },
   "outputs": [
    {
     "name": "stdout",
     "output_type": "stream",
     "text": [
      "La correlació d'Spearman és: -0.0019542427782414367 i el valor 'p' és: 0.8820166284334336\n"
     ]
    }
   ],
   "source": [
    "from scipy.stats.stats import spearmanr\n",
    "\n",
    "rho, pS = spearmanr(winter_df.Year,winter_df.Medal)\n",
    "\n",
    "print(f\"La correlació d'Spearman és: {rho} i el valor 'p' és: {pS}\")"
   ]
  },
  {
   "cell_type": "markdown",
   "id": "f283f769",
   "metadata": {
    "heading_collapsed": true,
    "hidden": true
   },
   "source": [
    "#### Correlació de Kendall:"
   ]
  },
  {
   "cell_type": "markdown",
   "id": "9f7a82f6",
   "metadata": {
    "heading_collapsed": true,
    "hidden": true
   },
   "source": [
    "##### NumPy:"
   ]
  },
  {
   "cell_type": "code",
   "execution_count": 224,
   "id": "2ff8bc94",
   "metadata": {
    "hidden": true,
    "scrolled": true
   },
   "outputs": [
    {
     "name": "stdout",
     "output_type": "stream",
     "text": [
      "\n",
      "The Correlation Matrix is: \n",
      "            Year     Medal\n",
      "Year   1.000000 -0.001553\n",
      "Medal -0.001553  1.000000\n"
     ]
    }
   ],
   "source": [
    "Kendall_DF = winter_df.corr(method= \"kendall\")\n",
    "print(\"\\nThe Correlation Matrix is: \\n\", Kendall_DF)"
   ]
  },
  {
   "cell_type": "markdown",
   "id": "8b88957e",
   "metadata": {
    "heading_collapsed": true,
    "hidden": true
   },
   "source": [
    "##### SciPy:"
   ]
  },
  {
   "cell_type": "code",
   "execution_count": 678,
   "id": "acf56c55",
   "metadata": {
    "hidden": true
   },
   "outputs": [
    {
     "name": "stdout",
     "output_type": "stream",
     "text": [
      "La Tau de Kendall és: -0.0015534831315483107 i el valor 'p' és: 0.881679165538539\n"
     ]
    }
   ],
   "source": [
    "from scipy.stats.stats import kendalltau\n",
    "\n",
    "tau, pK = kendalltau(winter_df.Year,winter_df.Medal)\n",
    "\n",
    "print(f\"La Tau de Kendall és: {tau} i el valor 'p' és: {pK}\")\n"
   ]
  },
  {
   "cell_type": "markdown",
   "id": "78e3032f",
   "metadata": {},
   "source": [
    "## Nivell 2\n",
    "\n",
    "### * Exercici 3\n",
    "\n",
    "Continuant amb les dades de tema esportiu, calcula la correlació de tots els atributs entre sí i representa'ls en una matriu amb diferents colors d'intensitat."
   ]
  },
  {
   "cell_type": "code",
   "execution_count": 680,
   "id": "3dc8ac98",
   "metadata": {},
   "outputs": [
    {
     "data": {
      "text/html": [
       "<div>\n",
       "<style scoped>\n",
       "    .dataframe tbody tr th:only-of-type {\n",
       "        vertical-align: middle;\n",
       "    }\n",
       "\n",
       "    .dataframe tbody tr th {\n",
       "        vertical-align: top;\n",
       "    }\n",
       "\n",
       "    .dataframe thead th {\n",
       "        text-align: right;\n",
       "    }\n",
       "</style>\n",
       "<table border=\"1\" class=\"dataframe\">\n",
       "  <thead>\n",
       "    <tr style=\"text-align: right;\">\n",
       "      <th></th>\n",
       "      <th>Year</th>\n",
       "      <th>Medal</th>\n",
       "    </tr>\n",
       "  </thead>\n",
       "  <tbody>\n",
       "    <tr>\n",
       "      <th>Year</th>\n",
       "      <td>1.000000</td>\n",
       "      <td>-0.003724</td>\n",
       "    </tr>\n",
       "    <tr>\n",
       "      <th>Medal</th>\n",
       "      <td>-0.003724</td>\n",
       "      <td>1.000000</td>\n",
       "    </tr>\n",
       "  </tbody>\n",
       "</table>\n",
       "</div>"
      ],
      "text/plain": [
       "           Year     Medal\n",
       "Year   1.000000 -0.003724\n",
       "Medal -0.003724  1.000000"
      ]
     },
     "execution_count": 680,
     "metadata": {},
     "output_type": "execute_result"
    }
   ],
   "source": [
    "winter_df.corr()"
   ]
  },
  {
   "cell_type": "code",
   "execution_count": 681,
   "id": "50b7dab4",
   "metadata": {},
   "outputs": [
    {
     "data": {
      "text/plain": [
       "-0.003724106592355819"
      ]
     },
     "execution_count": 681,
     "metadata": {},
     "output_type": "execute_result"
    }
   ],
   "source": [
    "winter_df['Year'].corr(winter_df['Medal'])"
   ]
  },
  {
   "cell_type": "code",
   "execution_count": 687,
   "id": "cdf3bb27",
   "metadata": {},
   "outputs": [
    {
     "data": {
      "image/png": "[encoded data removed]",
      "text/plain": [
       "<Figure size 432x288 with 2 Axes>"
      ]
     },
     "metadata": {
      "needs_background": "light"
     },
     "output_type": "display_data"
    }
   ],
   "source": [
    "sns.heatmap(winter_df.corr(), linewidths=.5, annot=True, cmap='summer');"
   ]
  },
  {
   "cell_type": "markdown",
   "id": "3499858d",
   "metadata": {},
   "source": [
    "## Nivell 3\n",
    "\n",
    "### * Exercici 4\n",
    "\n",
    "Continuant amb les dades de tema esportiu, selecciona un atribut i calcula la mitjana geomètrica i la mitjana harmònica."
   ]
  },
  {
   "cell_type": "code",
   "execution_count": null,
   "id": "07ec69d8",
   "metadata": {},
   "outputs": [],
   "source": []
  },
  {
   "cell_type": "code",
   "execution_count": null,
   "id": "6aa4aff7",
   "metadata": {},
   "outputs": [],
   "source": []
  },
  {
   "cell_type": "code",
   "execution_count": null,
   "id": "5360b5ce",
   "metadata": {},
   "outputs": [],
   "source": []
  }
 ],
 "metadata": {
  "kernelspec": {
   "display_name": "Python 3",
   "language": "python",
   "name": "python3"
  },
  "language_info": {
   "codemirror_mode": {
    "name": "ipython",
    "version": 3
   },
   "file_extension": ".py",
   "mimetype": "text/x-python",
   "name": "python",
   "nbconvert_exporter": "python",
   "pygments_lexer": "ipython3",
   "version": "3.8.8"
  }
 },
 "nbformat": 4,
 "nbformat_minor": 5
}
